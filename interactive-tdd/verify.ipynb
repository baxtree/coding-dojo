{
 "cells": [
  {
   "cell_type": "markdown",
   "metadata": {},
   "source": [
    "# Interactive Test Driven Development"
   ]
  },
  {
   "cell_type": "markdown",
   "metadata": {},
   "source": [
    "## Task I: String Calculator\n",
    "1. sum(\"cat\", \"cat\") == \"catcat\"\n",
    "2. prod(\"cat\", 2) == \"catcat\"\n",
    "3. sub(\"bulldog\", \"bull\") == \"dog\"\n",
    "4. div(\"catcat\", 2) == \"cat\""
   ]
  },
  {
   "cell_type": "code",
   "execution_count": 1,
   "metadata": {},
   "outputs": [
    {
     "name": "stdout",
     "output_type": "stream",
     "text": [
      "Collecting pytest\n",
      "  Downloading https://files.pythonhosted.org/packages/62/59/950a805f90587d6e2f3692cf43700becb7cdf6c16b06d84e7516b199236b/pytest-3.6.0-py2.py3-none-any.whl (194kB)\n",
      "\u001b[K    100% |████████████████████████████████| 194kB 2.2MB/s ta 0:00:01\n",
      "\u001b[?25hCollecting pluggy<0.7,>=0.5 (from pytest)\n",
      "  Downloading https://files.pythonhosted.org/packages/ba/65/ded3bc40bbf8d887f262f150fbe1ae6637765b5c9534bd55690ed2c0b0f7/pluggy-0.6.0-py3-none-any.whl\n",
      "Requirement already satisfied: setuptools in /srv/conda/lib/python3.6/site-packages (from pytest)\n",
      "Requirement already satisfied: six>=1.10.0 in /srv/conda/lib/python3.6/site-packages (from pytest)\n",
      "Collecting attrs>=17.4.0 (from pytest)\n",
      "  Downloading https://files.pythonhosted.org/packages/41/59/cedf87e91ed541be7957c501a92102f9cc6363c623a7666d69d51c78ac5b/attrs-18.1.0-py2.py3-none-any.whl\n",
      "Collecting py>=1.5.0 (from pytest)\n",
      "  Downloading https://files.pythonhosted.org/packages/67/a5/f77982214dd4c8fd104b066f249adea2c49e25e8703d284382eb5e9ab35a/py-1.5.3-py2.py3-none-any.whl (84kB)\n",
      "\u001b[K    100% |████████████████████████████████| 92kB 3.7MB/s ta 0:00:011\n",
      "\u001b[?25hCollecting atomicwrites>=1.0 (from pytest)\n",
      "  Downloading https://files.pythonhosted.org/packages/0a/e8/cd6375e7a59664eeea9e1c77a766eeac0fc3083bb958c2b41ec46b95f29c/atomicwrites-1.1.5-py2.py3-none-any.whl\n",
      "Collecting more-itertools>=4.0.0 (from pytest)\n",
      "  Downloading https://files.pythonhosted.org/packages/85/40/90c3b0393e12b9827381004224de8814686e3d7182f9d4182477f600826d/more_itertools-4.2.0-py3-none-any.whl (45kB)\n",
      "\u001b[K    100% |████████████████████████████████| 51kB 4.9MB/s eta 0:00:01\n",
      "\u001b[?25hInstalling collected packages: pluggy, attrs, py, atomicwrites, more-itertools, pytest\n",
      "Successfully installed atomicwrites-1.1.5 attrs-18.1.0 more-itertools-4.2.0 pluggy-0.6.0 py-1.5.3 pytest-3.6.0\n",
      "\u001b[33mYou are using pip version 9.0.3, however version 10.0.1 is available.\n",
      "You should consider upgrading via the 'pip install --upgrade pip' command.\u001b[0m\n"
     ]
    }
   ],
   "source": [
    "!pip install pytest"
   ]
  },
  {
   "cell_type": "code",
   "execution_count": null,
   "metadata": {},
   "outputs": [],
   "source": []
  },
  {
   "cell_type": "code",
   "execution_count": 3,
   "metadata": {},
   "outputs": [
    {
     "name": "stdout",
     "output_type": "stream",
     "text": [
      "jupyter nbconvert test_main.ipynb --to python\n",
      "[NbConvertApp] Converting notebook test_main.ipynb to python\n",
      "[NbConvertApp] Writing 148 bytes to test_main.py\n",
      "python -m pytest test_main.py\n",
      "\u001b[1m============================= test session starts ==============================\u001b[0m\n",
      "platform linux -- Python 3.6.5, pytest-3.6.0, py-1.5.3, pluggy-0.6.0\n",
      "rootdir: /home/jovyan/interactive-tdd, inifile:\n",
      "collected 1 item                                                               \u001b[0m\u001b[1m\n",
      "\n",
      "test_main.py F\u001b[36m                                                           [100%]\u001b[0m\n",
      "\n",
      "=================================== FAILURES ===================================\n",
      "\u001b[31m\u001b[1m___________________________________ test_sum ___________________________________\u001b[0m\n",
      "\n",
      "\u001b[1m    def test_sum():\u001b[0m\n",
      "\u001b[1m>       assert main.sum(1, 2) == 3\u001b[0m\n",
      "\u001b[1m\u001b[31mE       assert None == 3\u001b[0m\n",
      "\u001b[1m\u001b[31mE        +  where None = <function sum at 0x7f144fe612f0>(1, 2)\u001b[0m\n",
      "\u001b[1m\u001b[31mE        +    where <function sum at 0x7f144fe612f0> = main.sum\u001b[0m\n",
      "\n",
      "\u001b[1m\u001b[31mtest_main.py\u001b[0m:14: AssertionError\n",
      "\u001b[31m\u001b[1m=========================== 1 failed in 0.05 seconds ===========================\u001b[0m\n",
      "Makefile:2: recipe for target 'test' failed\n",
      "make: *** [test] Error 1\n"
     ]
    }
   ],
   "source": [
    "!make test"
   ]
  },
  {
   "cell_type": "code",
   "execution_count": null,
   "metadata": {},
   "outputs": [],
   "source": []
  },
  {
   "cell_type": "code",
   "execution_count": null,
   "metadata": {},
   "outputs": [],
   "source": []
  }
 ],
 "metadata": {
  "kernelspec": {
   "display_name": "Python 3",
   "language": "python",
   "name": "python3"
  },
  "language_info": {
   "codemirror_mode": {
    "name": "ipython",
    "version": 3
   },
   "file_extension": ".py",
   "mimetype": "text/x-python",
   "name": "python",
   "nbconvert_exporter": "python",
   "pygments_lexer": "ipython3",
   "version": "3.6.5"
  }
 },
 "nbformat": 4,
 "nbformat_minor": 1
}
